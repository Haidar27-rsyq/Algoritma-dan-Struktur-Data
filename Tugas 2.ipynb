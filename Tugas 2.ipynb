{
 "cells": [
  {
   "cell_type": "code",
   "execution_count": 1,
   "metadata": {},
   "outputs": [
    {
     "name": "stdout",
     "output_type": "stream",
     "text": [
      "saya suka programming\n",
      "saya suka programming\n",
      "saya suka programming\n",
      "saya suka programming\n",
      "saya suka programming\n"
     ]
    }
   ],
   "source": [
    "print (\"saya suka programming\")\n",
    "print (\"saya suka programming\")\n",
    "print (\"saya suka programming\")\n",
    "print (\"saya suka programming\")\n",
    "print (\"saya suka programming\")"
   ]
  },
  {
   "cell_type": "code",
   "execution_count": 2,
   "metadata": {},
   "outputs": [
    {
     "name": "stdout",
     "output_type": "stream",
     "text": [
      "615.44\n"
     ]
    }
   ],
   "source": [
    "phi = 3.14\n",
    "r = 14\n",
    "luas = phi*r*r\n",
    "print (luas)"
   ]
  },
  {
   "cell_type": "code",
   "execution_count": 5,
   "metadata": {},
   "outputs": [
    {
     "name": "stdout",
     "output_type": "stream",
     "text": [
      "saya muhammad haidar rasyiq, saya membuat program menghitung balok\n",
      "panjang : 5 cm\n",
      "luas : 7 cm\n",
      "tinggi : 10 cm\n",
      "sehingga volume balok : 350 cm3\n"
     ]
    }
   ],
   "source": [
    "print (\"saya muhammad haidar rasyiq, saya membuat program menghitung balok\")\n",
    "p = 5\n",
    "l = 7\n",
    "t = 10\n",
    "v = p*l*t\n",
    "print (\"panjang :\", p,\"cm\")\n",
    "print (\"luas :\",l,\"cm\")\n",
    "print (\"tinggi :\",t,\"cm\")\n",
    "print (\"sehingga volume balok :\",v,\"cm3\")"
   ]
  },
  {
   "cell_type": "code",
   "execution_count": null,
   "metadata": {},
   "outputs": [],
   "source": [
    "Var = "
   ]
  }
 ],
 "metadata": {
  "kernelspec": {
   "display_name": "Python 3",
   "language": "python",
   "name": "python3"
  },
  "language_info": {
   "codemirror_mode": {
    "name": "ipython",
    "version": 3
   },
   "file_extension": ".py",
   "mimetype": "text/x-python",
   "name": "python",
   "nbconvert_exporter": "python",
   "pygments_lexer": "ipython3",
   "version": "3.8.3"
  }
 },
 "nbformat": 4,
 "nbformat_minor": 4
}
