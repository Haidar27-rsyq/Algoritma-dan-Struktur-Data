{
 "cells": [
  {
   "cell_type": "code",
   "execution_count": 1,
   "metadata": {},
   "outputs": [
    {
     "name": "stdout",
     "output_type": "stream",
     "text": [
      "30\n",
      "3.14\n",
      "50\n",
      "ini variabel milik haidar\n",
      "ini variabel milik haidar adalah 50\n"
     ]
    },
    {
     "ename": "NameError",
     "evalue": "name 'Var' is not defined",
     "output_type": "error",
     "traceback": [
      "\u001b[1;31m---------------------------------------------------------------------------\u001b[0m",
      "\u001b[1;31mNameError\u001b[0m                                 Traceback (most recent call last)",
      "\u001b[1;32m<ipython-input-1-bc138f15cfc0>\u001b[0m in \u001b[0;36m<module>\u001b[1;34m\u001b[0m\n\u001b[0;32m     12\u001b[0m \u001b[1;33m\u001b[0m\u001b[0m\n\u001b[0;32m     13\u001b[0m \u001b[1;32mdel\u001b[0m\u001b[1;33m(\u001b[0m\u001b[0mVar\u001b[0m\u001b[1;33m)\u001b[0m\u001b[1;33m\u001b[0m\u001b[1;33m\u001b[0m\u001b[0m\n\u001b[1;32m---> 14\u001b[1;33m \u001b[0mprint\u001b[0m\u001b[1;33m(\u001b[0m\u001b[0mVar\u001b[0m\u001b[1;33m)\u001b[0m\u001b[1;33m\u001b[0m\u001b[1;33m\u001b[0m\u001b[0m\n\u001b[0m",
      "\u001b[1;31mNameError\u001b[0m: name 'Var' is not defined"
     ]
    }
   ],
   "source": [
    "#nama Haidar Rasyiq\n",
    "Var = 30         #variabel:Var\n",
    "Phi = 3.14       #variabel:phi\n",
    "Var2 = 50        #variabel:var2\n",
    "Variabel_saya = \"ini variabel milik haidar\" #variabel:Variabel_saya\n",
    "\n",
    "print (Var) #cetak variabel var\n",
    "print (Phi)\n",
    "print (Var2)\n",
    "print (Variabel_saya)\n",
    "print (Variabel_saya,\"adalah\",Var2)\n",
    "\n",
    "del(Var)\n",
    "print(Var)"
   ]
  },
  {
   "cell_type": "code",
   "execution_count": 1,
   "metadata": {},
   "outputs": [
    {
     "name": "stdout",
     "output_type": "stream",
     "text": [
      "true\n",
      "False\n"
     ]
    }
   ],
   "source": [
    "a = \"true\"\n",
    "b = \"False\"\n",
    "print (a)\n",
    "print (b)"
   ]
  },
  {
   "cell_type": "code",
   "execution_count": 2,
   "metadata": {},
   "outputs": [
    {
     "name": "stdout",
     "output_type": "stream",
     "text": [
      "True\n"
     ]
    }
   ],
   "source": [
    "perbandingan = 12 > 10\n",
    "print (perbandingan)"
   ]
  },
  {
   "cell_type": "code",
   "execution_count": 3,
   "metadata": {},
   "outputs": [
    {
     "name": "stdout",
     "output_type": "stream",
     "text": [
      "False\n"
     ]
    }
   ],
   "source": [
    "perbandingan = 10 > 12\n",
    "print (perbandingan)"
   ]
  },
  {
   "cell_type": "code",
   "execution_count": 4,
   "metadata": {},
   "outputs": [
    {
     "name": "stdout",
     "output_type": "stream",
     "text": [
      "0b1000000\n",
      "64.0\n",
      "0x40\n"
     ]
    }
   ],
   "source": [
    "a = 64\n",
    "print (bin(a))\n",
    "print (float(a))\n",
    "print (hex(a))"
   ]
  },
  {
   "cell_type": "code",
   "execution_count": 5,
   "metadata": {},
   "outputs": [
    {
     "name": "stdout",
     "output_type": "stream",
     "text": [
      "haidar rasyiq\n"
     ]
    },
    {
     "ename": "NameError",
     "evalue": "name 'var' is not defined",
     "output_type": "error",
     "traceback": [
      "\u001b[1;31m---------------------------------------------------------------------------\u001b[0m",
      "\u001b[1;31mNameError\u001b[0m                                 Traceback (most recent call last)",
      "\u001b[1;32m<ipython-input-5-b9c71568be2c>\u001b[0m in \u001b[0;36m<module>\u001b[1;34m\u001b[0m\n\u001b[0;32m      5\u001b[0m \u001b[1;33m\u001b[0m\u001b[0m\n\u001b[0;32m      6\u001b[0m \u001b[1;32mdel\u001b[0m \u001b[1;33m(\u001b[0m\u001b[0mvar\u001b[0m\u001b[1;33m)\u001b[0m\u001b[1;33m\u001b[0m\u001b[1;33m\u001b[0m\u001b[0m\n\u001b[1;32m----> 7\u001b[1;33m \u001b[0mprint\u001b[0m \u001b[1;33m(\u001b[0m\u001b[0mvar\u001b[0m\u001b[1;33m)\u001b[0m\u001b[1;33m\u001b[0m\u001b[1;33m\u001b[0m\u001b[0m\n\u001b[0m",
      "\u001b[1;31mNameError\u001b[0m: name 'var' is not defined"
     ]
    }
   ],
   "source": [
    "#nama haidar\n",
    "\n",
    "var = \"haidar rasyiq\"\n",
    "print (var)\n",
    "\n",
    "del (var)\n",
    "print (var)"
   ]
  },
  {
   "cell_type": "code",
   "execution_count": 1,
   "metadata": {},
   "outputs": [
    {
     "name": "stdout",
     "output_type": "stream",
     "text": [
      "jari jari lingkaran 50 cm\n",
      "phi : 3.14 cm\n",
      "keliling lingkaran sama dengan 314 cm\n"
     ]
    }
   ],
   "source": [
    "#nama haidar\n",
    "\n",
    "r = 50 #tipe data integer\n",
    "phi = 3.14 #tipe data float\n",
    "keliling = 2*phi*r\n",
    "print (\"jari jari lingkaran\", int (r), \"cm\")\n",
    "print (\"phi :\", float (phi), \"cm\")\n",
    "print (\"keliling lingkaran sama dengan\", int(keliling), \"cm\")"
   ]
  },
  {
   "cell_type": "code",
   "execution_count": 27,
   "metadata": {},
   "outputs": [
    {
     "name": "stdout",
     "output_type": "stream",
     "text": [
      "True\n",
      "False\n"
     ]
    }
   ],
   "source": [
    "#nama haidar\n",
    "a = \"True\"\n",
    "b = \"False\"\n",
    "print (a)\n",
    "print (b)"
   ]
  },
  {
   "cell_type": "code",
   "execution_count": 28,
   "metadata": {},
   "outputs": [
    {
     "name": "stdout",
     "output_type": "stream",
     "text": [
      "0b1000000\n",
      "64.0\n",
      "0x40\n"
     ]
    }
   ],
   "source": [
    "a = 64\n",
    "print (bin(a))\n",
    "print (float(a))\n",
    "print (hex(a))"
   ]
  },
  {
   "cell_type": "code",
   "execution_count": 31,
   "metadata": {},
   "outputs": [
    {
     "name": "stdout",
     "output_type": "stream",
     "text": [
      "Biodata Mahasiswa\n",
      "Nama : Muhammad Haidar Rasyiq\n",
      "NIM : 20090087\n",
      "\n",
      "Dia Mahasiswa semester 5 yang berprestasi, karena memiliki IPK sebesar 3.87\n"
     ]
    },
    {
     "ename": "NameError",
     "evalue": "name 'IPK' is not defined",
     "output_type": "error",
     "traceback": [
      "\u001b[1;31m---------------------------------------------------------------------------\u001b[0m",
      "\u001b[1;31mNameError\u001b[0m                                 Traceback (most recent call last)",
      "\u001b[1;32m<ipython-input-31-bf70499b4d0b>\u001b[0m in \u001b[0;36m<module>\u001b[1;34m\u001b[0m\n\u001b[0;32m     11\u001b[0m \u001b[1;33m\u001b[0m\u001b[0m\n\u001b[0;32m     12\u001b[0m \u001b[1;32mdel\u001b[0m\u001b[1;33m(\u001b[0m\u001b[0mIPK\u001b[0m\u001b[1;33m)\u001b[0m\u001b[1;33m\u001b[0m\u001b[1;33m\u001b[0m\u001b[0m\n\u001b[1;32m---> 13\u001b[1;33m \u001b[0mprint\u001b[0m\u001b[1;33m(\u001b[0m\u001b[0mIPK\u001b[0m\u001b[1;33m)\u001b[0m\u001b[1;33m\u001b[0m\u001b[1;33m\u001b[0m\u001b[0m\n\u001b[0m",
      "\u001b[1;31mNameError\u001b[0m: name 'IPK' is not defined"
     ]
    }
   ],
   "source": [
    "print (\"Biodata Mahasiswa\")\n",
    "Nama = \"Nama : Muhammad Haidar Rasyiq\" #tipe data string\n",
    "NIM = \"NIM : 20090087\" #tipe data string\n",
    "Semester = 5 #tipe data integer\n",
    "IPK = 3.87 #tipe data float\n",
    "\n",
    "print (str(Nama))\n",
    "print (str(NIM))\n",
    "print(\"\"\"\n",
    "Dia Mahasiswa semester\"\"\", Semester, \"yang berprestasi, karena memiliki IPK sebesar\", IPK)\n",
    "\n",
    "del(IPK)\n",
    "print(IPK)"
   ]
  },
  {
   "cell_type": "code",
   "execution_count": 1,
   "metadata": {},
   "outputs": [
    {
     "name": "stdout",
     "output_type": "stream",
     "text": [
      "True\n",
      "False\n"
     ]
    }
   ],
   "source": [
    "a = 50 > 30\n",
    "b = 100 < 80\n",
    "print (a)\n",
    "print (b)"
   ]
  },
  {
   "cell_type": "code",
   "execution_count": null,
   "metadata": {},
   "outputs": [],
   "source": []
  }
 ],
 "metadata": {
  "kernelspec": {
   "display_name": "Python 3",
   "language": "python",
   "name": "python3"
  },
  "language_info": {
   "codemirror_mode": {
    "name": "ipython",
    "version": 3
   },
   "file_extension": ".py",
   "mimetype": "text/x-python",
   "name": "python",
   "nbconvert_exporter": "python",
   "pygments_lexer": "ipython3",
   "version": "3.8.3"
  }
 },
 "nbformat": 4,
 "nbformat_minor": 4
}
