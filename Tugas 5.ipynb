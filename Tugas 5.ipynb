{
 "cells": [
  {
   "cell_type": "code",
   "execution_count": 3,
   "metadata": {},
   "outputs": [
    {
     "name": "stdout",
     "output_type": "stream",
     "text": [
      "i like proggaming\n",
      "Because i proud to make something new\n"
     ]
    }
   ],
   "source": [
    "#Haidar\n",
    "#Membuat fungsi \n",
    "def biodata ():\n",
    "    print (\"i like proggaming\")\n",
    "    print (\"Because i proud to make something new\")\n",
    "    \n",
    "#Memanggil fungsi\n",
    "biodata ()"
   ]
  },
  {
   "cell_type": "code",
   "execution_count": 22,
   "metadata": {},
   "outputs": [
    {
     "name": "stdout",
     "output_type": "stream",
     "text": [
      "Siapa Nama Anda ? Muhammad Haidar Rasyiq\n",
      "Nama Saya adalah  Muhammad Haidar Rasyiq\n",
      "Luas Persegi =  48\n",
      "Luas Persegi =  45\n"
     ]
    }
   ],
   "source": [
    "#Haidar\n",
    "def perkenalan ():\n",
    "    nama = input(\"Siapa Nama Anda ? \")\n",
    "    print (\"Nama Saya adalah \", nama)\n",
    "    \n",
    "#Fungsi 2 Parameter\n",
    "def luas_persegipanjang (panjang, lebar):\n",
    "    luas = panjang * lebar\n",
    "    print (\"Luas Persegi = \", luas)\n",
    "    \n",
    "#Memanggil fungsi\n",
    "perkenalan ()\n",
    "luas_persegipanjang (6, 8)\n",
    "luas_persegipanjang (5, 9)"
   ]
  },
  {
   "cell_type": "code",
   "execution_count": 8,
   "metadata": {},
   "outputs": [
    {
     "name": "stdout",
     "output_type": "stream",
     "text": [
      "Perkenalkan diri anda :Muhammad Haidar Rasyiq\n",
      "Muhammad Haidar Rasyiq\n"
     ]
    }
   ],
   "source": [
    "#Membuat Perkenalkan diri\n",
    "def biodata ():\n",
    "    name = str(input(\"Perkenalkan diri anda :\"))\n",
    "    print (name)\n",
    "    \n",
    "#Memanggil Fugsi\n",
    "biodata ()"
   ]
  },
  {
   "cell_type": "code",
   "execution_count": 9,
   "metadata": {},
   "outputs": [
    {
     "name": "stdout",
     "output_type": "stream",
     "text": [
      "Nama Saya : Muhammad Haidar Rasyiq\n"
     ]
    }
   ],
   "source": [
    "#Membuat fungsi 1 parameter\n",
    "def perkenalandiri (salken):\n",
    "    print (salken)\n",
    "    \n",
    "perkenalandiri (\"Nama Saya : Muhammad Haidar Rasyiq\")"
   ]
  },
  {
   "cell_type": "code",
   "execution_count": 1,
   "metadata": {},
   "outputs": [
    {
     "name": "stdout",
     "output_type": "stream",
     "text": [
      "Luas Persegi Panjang adalah 20.0\n",
      "Luas Persegi Panjang adalah 14.0\n"
     ]
    }
   ],
   "source": [
    "#Membuat fungsi dengan 2 parameter \n",
    "def luas_persegi(panjang, lebar):\n",
    "    luas = (panjang * lebar) / 2\n",
    "    print (\"Luas Persegi Panjang adalah\", luas);\n",
    "    \n",
    "#pemanggilan fungsi\n",
    "luas_persegi(5,8)\n",
    "luas_persegi(4,7)"
   ]
  },
  {
   "cell_type": "code",
   "execution_count": 20,
   "metadata": {},
   "outputs": [
    {
     "name": "stdout",
     "output_type": "stream",
     "text": [
      "Panjang = 5\n",
      "Lebar = 8\n",
      "Tinggi = 10\n",
      "Luas Persegi Panjang 40\n",
      "Volume Balok 400\n"
     ]
    }
   ],
   "source": [
    "#Haidar\n",
    "panjang = int(input(\"Panjang = \"))\n",
    "lebar = int(input(\"Lebar = \"))\n",
    "tinggi = int(input(\"Tinggi = \"))\n",
    "\n",
    "#Rumus : P X L\n",
    "def luas_persegipanjang():\n",
    "    luas = panjang * lebar\n",
    "    return luas\n",
    "\n",
    "#Rumus : P X L X T\n",
    "def volume_balok():\n",
    "    volume = luas_persegi()*tinggi\n",
    "    return volume\n",
    "\n",
    "print (\"Luas Persegi Panjang\", luas_persegi())\n",
    "print (\"Volume Balok\", volume_balok())"
   ]
  },
  {
   "cell_type": "code",
   "execution_count": 11,
   "metadata": {},
   "outputs": [
    {
     "name": "stdout",
     "output_type": "stream",
     "text": [
      "Luas Persegi Panjang adalah : 56\n"
     ]
    }
   ],
   "source": [
    "def luas_persegi (panjang, lebar):\n",
    "    luas = panjang * lebar\n",
    "    return luas\n",
    "\n",
    "print (\"Luas Persegi Panjang adalah :\", luas_persegi (7, 8))"
   ]
  },
  {
   "cell_type": "code",
   "execution_count": 14,
   "metadata": {},
   "outputs": [
    {
     "name": "stdout",
     "output_type": "stream",
     "text": [
      "Volume balok adalah : 10\n"
     ]
    }
   ],
   "source": [
    "def volume_balok (panjang, lebar, tinggi):\n",
    "    volume = panjang * lebar * tinggi\n",
    "    return volume\n",
    "\n",
    "print (\"Volume balok adalah :\", volume_balok (5, 2, 1))"
   ]
  },
  {
   "cell_type": "code",
   "execution_count": 15,
   "metadata": {},
   "outputs": [
    {
     "name": "stdout",
     "output_type": "stream",
     "text": [
      "Angka pertama :27\n",
      "Angka kedua :13\n"
     ]
    }
   ],
   "source": [
    "def masukan ():\n",
    "    masukan = int(input(\"Angka pertama :\"))\n",
    "    masukan = int(input(\"Angka kedua :\"))\n",
    "    \n",
    "masukan()"
   ]
  },
  {
   "cell_type": "code",
   "execution_count": 1,
   "metadata": {},
   "outputs": [
    {
     "name": "stdout",
     "output_type": "stream",
     "text": [
      "Angka pertama = 5\n",
      "Angka kedua = 8\n",
      "Apakah a sama dengan dari b :  False\n",
      "Apakah a lebih besar dari b :  False\n"
     ]
    }
   ],
   "source": [
    "#Haidar\n",
    "#FUNGSI, INPUT, OPERATOR\n",
    "a = int(input(\"Angka pertama = \"))\n",
    "b = int(input(\"Angka kedua = \"))\n",
    "\n",
    "#apakah a sama dengan b?\n",
    "def sama_dengan():\n",
    "    c = a == b\n",
    "    #print (\"Apakah a sama dengan b :\", c)\n",
    "    return c\n",
    "\n",
    "#apakah a lebih besar dari b?\n",
    "def lebih_besar():\n",
    "    d = a > b\n",
    "    #print (\"Apakah a lebih besar dari b :\", d)\n",
    "    return d\n",
    "\n",
    "#sama_dengan ()\n",
    "#lebih_besar ()\n",
    "\n",
    "print (\"Apakah a sama dengan dari b : \", sama_dengan())\n",
    "print (\"Apakah a lebih besar dari b : \", lebih_besar())"
   ]
  },
  {
   "cell_type": "code",
   "execution_count": null,
   "metadata": {},
   "outputs": [],
   "source": []
  }
 ],
 "metadata": {
  "kernelspec": {
   "display_name": "Python 3",
   "language": "python",
   "name": "python3"
  },
  "language_info": {
   "codemirror_mode": {
    "name": "ipython",
    "version": 3
   },
   "file_extension": ".py",
   "mimetype": "text/x-python",
   "name": "python",
   "nbconvert_exporter": "python",
   "pygments_lexer": "ipython3",
   "version": "3.8.3"
  }
 },
 "nbformat": 4,
 "nbformat_minor": 4
}
