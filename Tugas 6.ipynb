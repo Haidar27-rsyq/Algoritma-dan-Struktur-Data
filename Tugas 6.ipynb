{
 "cells": [
  {
   "cell_type": "code",
   "execution_count": 1,
   "metadata": {},
   "outputs": [
    {
     "name": "stdout",
     "output_type": "stream",
     "text": [
      "Masukan Nilai Anda : 50\n",
      "Nilai kamu remidi\n"
     ]
    }
   ],
   "source": [
    "#Haidar\n",
    "Nilai = int(input(\"Masukan Nilai Anda : \"))\n",
    "if Nilai <70 :\n",
    "    print (\"Nilai kamu remidi\")"
   ]
  },
  {
   "cell_type": "code",
   "execution_count": 5,
   "metadata": {},
   "outputs": [
    {
     "name": "stdout",
     "output_type": "stream",
     "text": [
      "Masukan Nilai rad 10\n",
      "Nilai Luas Lingkaran adalah :  314.0\n",
      "Lingkaran ini Kecil\n"
     ]
    }
   ],
   "source": [
    "#Haidar\n",
    "rad = int(input(\"Masukan Nilai rad \"))\n",
    "l_lingkaran = 3.14 * rad * rad\n",
    "print (\"Nilai Luas Lingkaran adalah : \", l_lingkaran)\n",
    "if l_lingkaran > 314 :\n",
    "    print (\"Lingkaran ini Besar\")\n",
    "else:\n",
    "    print (\"Lingkaran ini Kecil\")"
   ]
  },
  {
   "cell_type": "code",
   "execution_count": 5,
   "metadata": {},
   "outputs": [
    {
     "name": "stdout",
     "output_type": "stream",
     "text": [
      "Masukkan Nomor Program Yang Dipilih : 2\n",
      "Masukkan Nilai Sisi : 10\n",
      "Volume Kubus =  1000\n"
     ]
    }
   ],
   "source": [
    "#Haidar\n",
    "\n",
    "def v_balok():\n",
    "    p = int(input(\"Masukkan Nilai Panjang : \"))\n",
    "    l = int(input(\"Masukkan Nilai Lebar : \"))\n",
    "    t = int(input(\"Masukkan Nilai Tinggi : \"))\n",
    "    volume = p * l * t\n",
    "    return volume\n",
    "def v_kubus():\n",
    "    s = int(input(\"Masukkan Nilai Sisi : \"))\n",
    "    volume = s * s * s\n",
    "    return volume\n",
    "\n",
    "program = int(input(\"Masukkan Nomor Program Yang Dipilih : \"))\n",
    "\n",
    "if program == 1:\n",
    "    print(\"Volume Balok = \",v_balok())\n",
    "elif program == 2:\n",
    "    print(\"Volume Kubus = \",v_kubus())\n",
    "else:\n",
    "    print(\"Program Tidak Tersedia\")"
   ]
  },
  {
   "cell_type": "code",
   "execution_count": null,
   "metadata": {},
   "outputs": [],
   "source": []
  }
 ],
 "metadata": {
  "kernelspec": {
   "display_name": "Python 3",
   "language": "python",
   "name": "python3"
  },
  "language_info": {
   "codemirror_mode": {
    "name": "ipython",
    "version": 3
   },
   "file_extension": ".py",
   "mimetype": "text/x-python",
   "name": "python",
   "nbconvert_exporter": "python",
   "pygments_lexer": "ipython3",
   "version": "3.8.3"
  }
 },
 "nbformat": 4,
 "nbformat_minor": 4
}
