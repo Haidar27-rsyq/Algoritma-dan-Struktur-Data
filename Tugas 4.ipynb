{
 "cells": [
  {
   "cell_type": "code",
   "execution_count": 1,
   "metadata": {},
   "outputs": [
    {
     "name": "stdout",
     "output_type": "stream",
     "text": [
      "Hasil 20 + 5 = 25\n",
      "Hasil 20 - 5 = 15\n",
      "Hasil 20 * 5 = 100\n",
      "Hasil 20 / 5 = 4.0\n",
      "Hasil 20 % 5 = 0\n",
      "Hasil 20 ** 5 = 3200000\n"
     ]
    }
   ],
   "source": [
    "#OPERATOR ARITMATIKA\n",
    "\n",
    "a = 20\n",
    "b = 5\n",
    "\n",
    "#Menggunakan operator penjumlahan\n",
    "c = a + b\n",
    "print (\"Hasil\", a, \"+\", b, \"=\", c)\n",
    "\n",
    "#Operator Pengurangan\n",
    "d = a - b\n",
    "print (\"Hasil\", a, \"-\", b, \"=\", d)\n",
    "\n",
    "#Operator Perkalian \n",
    "c = a * b\n",
    "print (\"Hasil\", a, \"*\", b, \"=\", c)\n",
    "\n",
    "#Operator Pembagian\n",
    "d = a / b\n",
    "print (\"Hasil\", a, \"/\", b, \"=\", d)\n",
    "\n",
    "#Operator Sisa Bagi \n",
    "c = a % b\n",
    "print (\"Hasil\", a, \"%\", b, \"=\", c)\n",
    "\n",
    "#Operator Pemangkatan\n",
    "d = a ** b\n",
    "print (\"Hasil\", a, \"**\", b, \"=\", d)\n"
   ]
  },
  {
   "cell_type": "code",
   "execution_count": 4,
   "metadata": {},
   "outputs": [
    {
     "name": "stdout",
     "output_type": "stream",
     "text": [
      "30\n",
      "35\n",
      "30\n",
      "150\n",
      "30.0\n",
      "0.0\n",
      "0.0\n"
     ]
    }
   ],
   "source": [
    "a = 30  #Pengisian\n",
    "print (a)\n",
    "a+= 5 #Penjumlahan\n",
    "print (a)\n",
    "a-= 5 #Pengurangan\n",
    "print (a)\n",
    "a*= 5 #Perkalian\n",
    "print (a)\n",
    "a/= 5 #Pembagian\n",
    "print (a)\n",
    "a%= 5 #Sisa Bagi\n",
    "print (a)\n",
    "a**= 5 #Pemangkatan\n",
    "print (a)"
   ]
  },
  {
   "cell_type": "code",
   "execution_count": 10,
   "metadata": {},
   "outputs": [
    {
     "name": "stdout",
     "output_type": "stream",
     "text": [
      "apakah a lebih besar dengan b : True\n",
      "apakah a lebih kecil dengan b : False\n",
      "apakah a sama dengan dengan b : False\n",
      "apakah a tidak sama dengan b : True\n",
      "apakah a lebih besar sama dengan b : True\n",
      "apakah a lebih kecil sama dengan b : False\n"
     ]
    }
   ],
   "source": [
    "a = 20\n",
    "b = 10\n",
    "#Apakah a lebih besar dengan b?\n",
    "c = a > b\n",
    "print (\"apakah a lebih besar dengan b :\", c)\n",
    "#Apakah a lebih kecil dengan b?\n",
    "c = a < b\n",
    "print (\"apakah a lebih kecil dengan b :\", c)\n",
    "#Apakah a sama dengan dengan b?\n",
    "c = a == b\n",
    "print (\"apakah a sama dengan dengan b :\", c)\n",
    "#Apakah a tidak sama dengan b?\n",
    "c = a != b\n",
    "print (\"apakah a tidak sama dengan b :\", c)\n",
    "#Apakah a lebih besar sama dengan b?\n",
    "c = a >= b\n",
    "print (\"apakah a lebih besar sama dengan b :\", c)\n",
    "#Apakah a lebih kecil sama dengan b?\n",
    "c = a <= b\n",
    "print (\"apakah a lebih kecil sama dengan b :\", c)"
   ]
  },
  {
   "cell_type": "code",
   "execution_count": 13,
   "metadata": {},
   "outputs": [
    {
     "name": "stdout",
     "output_type": "stream",
     "text": [
      "False\n",
      "True\n"
     ]
    },
    {
     "data": {
      "text/plain": [
       "False"
      ]
     },
     "execution_count": 13,
     "metadata": {},
     "output_type": "execute_result"
    }
   ],
   "source": [
    "a = True\n",
    "b = False\n",
    "\n",
    "#Logika AND\n",
    "c = a and b\n",
    "print (c)\n",
    "#Logika OR\n",
    "d = a or b\n",
    "print (d)\n",
    "#Negasi/Kebalikan\n",
    "not a"
   ]
  },
  {
   "cell_type": "code",
   "execution_count": 1,
   "metadata": {},
   "outputs": [
    {
     "name": "stdout",
     "output_type": "stream",
     "text": [
      "nama bayi ?Haidar\n",
      "berat bayi ?5\n",
      "nama bayi adalah : Haidar berat dalam kg : 5 Kg, berat dalam ons : 100 ons, berat bayi dalam 1 bulan kedepan adalah : 130 ons\n"
     ]
    }
   ],
   "source": [
    "#Input Output\n",
    "nama = input(\"nama bayi ?\")\n",
    "berat = int(input(\"berat bayi ?\"))\n",
    "ons = berat * 20\n",
    "ons1 = ons + 30\n",
    "print (\"nama bayi adalah :\", nama, \"berat dalam kg :\", berat,\"Kg, berat dalam ons :\", ons, \"ons, berat bayi dalam 1 bulan kedepan adalah :\", ons1, \"ons\")"
   ]
  },
  {
   "cell_type": "code",
   "execution_count": 3,
   "metadata": {},
   "outputs": [
    {
     "name": "stdout",
     "output_type": "stream",
     "text": [
      "Nama bayi ?Haidar\n",
      "Berat bayi ?5\n",
      "Nama bayi adalah : Haidar\n",
      "Berat dalam kg : 5 Kg\n",
      "Berat dalam ons : 100 ons\n",
      "Berat bayi dalam 1 bulan kedepan adalah : 130 ons\n"
     ]
    }
   ],
   "source": [
    "#Input Output\n",
    "nama = input(\"Nama bayi ?\")\n",
    "berat = int(input(\"Berat bayi ?\"))\n",
    "ons = berat * 20\n",
    "ons1 = ons + 30\n",
    "print (\"Nama bayi adalah :\", nama)\n",
    "print(\"Berat dalam kg :\", berat,\"Kg\")\n",
    "print(\"Berat dalam ons :\", ons, \"ons\")\n",
    "print(\"Berat bayi dalam 1 bulan kedepan adalah :\", ons1, \"ons\")"
   ]
  },
  {
   "cell_type": "code",
   "execution_count": null,
   "metadata": {},
   "outputs": [],
   "source": []
  }
 ],
 "metadata": {
  "kernelspec": {
   "display_name": "Python 3",
   "language": "python",
   "name": "python3"
  },
  "language_info": {
   "codemirror_mode": {
    "name": "ipython",
    "version": 3
   },
   "file_extension": ".py",
   "mimetype": "text/x-python",
   "name": "python",
   "nbconvert_exporter": "python",
   "pygments_lexer": "ipython3",
   "version": "3.8.3"
  }
 },
 "nbformat": 4,
 "nbformat_minor": 4
}
